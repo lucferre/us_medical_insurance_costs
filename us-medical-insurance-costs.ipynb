{
 "cells": [
  {
   "cell_type": "markdown",
   "metadata": {},
   "source": [
    "# U.S. Medical Insurance Costs"
   ]
  },
  {
   "cell_type": "code",
   "execution_count": 41,
   "metadata": {},
   "outputs": [
    {
     "ename": "ValueError",
     "evalue": "invalid literal for int() with base 10: '16884.924'",
     "output_type": "error",
     "traceback": [
      "\u001b[1;31m---------------------------------------------------------------------------\u001b[0m",
      "\u001b[1;31mValueError\u001b[0m                                Traceback (most recent call last)",
      "\u001b[1;32m<ipython-input-41-904ea393488f>\u001b[0m in \u001b[0;36m<module>\u001b[1;34m\u001b[0m\n\u001b[0;32m     21\u001b[0m         \u001b[1;32mif\u001b[0m \u001b[0mrow\u001b[0m\u001b[1;33m[\u001b[0m\u001b[1;34m\"smoker\"\u001b[0m\u001b[1;33m]\u001b[0m \u001b[1;33m==\u001b[0m \u001b[1;34m'yes'\u001b[0m\u001b[1;33m:\u001b[0m\u001b[1;33m\u001b[0m\u001b[1;33m\u001b[0m\u001b[0m\n\u001b[0;32m     22\u001b[0m             \u001b[0mtotal_smokers\u001b[0m \u001b[1;33m+=\u001b[0m \u001b[1;36m1\u001b[0m\u001b[1;33m\u001b[0m\u001b[1;33m\u001b[0m\u001b[0m\n\u001b[1;32m---> 23\u001b[1;33m             \u001b[0mtotal_smokers_cost\u001b[0m \u001b[1;33m+=\u001b[0m \u001b[0mint\u001b[0m\u001b[1;33m(\u001b[0m\u001b[0mrow\u001b[0m\u001b[1;33m[\u001b[0m\u001b[1;34m\"charges\"\u001b[0m\u001b[1;33m]\u001b[0m\u001b[1;33m)\u001b[0m\u001b[1;33m\u001b[0m\u001b[1;33m\u001b[0m\u001b[0m\n\u001b[0m\u001b[0;32m     24\u001b[0m         \u001b[1;32melse\u001b[0m\u001b[1;33m:\u001b[0m\u001b[1;33m\u001b[0m\u001b[1;33m\u001b[0m\u001b[0m\n\u001b[0;32m     25\u001b[0m             \u001b[0mtotal_non_smokers\u001b[0m \u001b[1;33m+=\u001b[0m \u001b[1;36m1\u001b[0m\u001b[1;33m\u001b[0m\u001b[1;33m\u001b[0m\u001b[0m\n",
      "\u001b[1;31mValueError\u001b[0m: invalid literal for int() with base 10: '16884.924'"
     ]
    }
   ],
   "source": [
    "import csv\n",
    "\n",
    "total_of_entries = 0\n",
    "total_smokers = 0\n",
    "total_smokers_cost = 0\n",
    "smokers_avg_cost = 0\n",
    "total_non_smokers = 0\n",
    "total_non_smokers_cost = 0\n",
    "non_smokers_avg_cost = 0\n",
    "smokers_percent = 0\n",
    "\n",
    "\n",
    "with open('insurance.csv') as insurance_data:\n",
    "    insurance_reader = csv.DictReader(insurance_data)\n",
    "    \n",
    "    for row in insurance_reader:\n",
    "        # count how many entries there are in the dataset and print it\n",
    "        total_of_entries += 1\n",
    "        \n",
    "        # count the number of smokers\n",
    "        if row[\"smoker\"] == 'yes':\n",
    "            total_smokers += 1\n",
    "            total_smokers_cost += int(row[\"charges\"])\n",
    "        else:\n",
    "            total_non_smokers += 1\n",
    "            total_non_smokers_cost += int(row(\"charges\"))\n",
    "        \n",
    "        smokers_avg_cost = total_smokers_cost / total_smokers\n",
    "            \n",
    "    smokers_percent = total_smokers/total_of_entries*100\n",
    "    \n",
    "    print(\"There are {num} entries in the dataset.\".format(num=total_of_entries))\n",
    "    print(\"{} patients are smokers. They represent {}% of patients.\".format(total_smokers, smokers_percent))\n"
   ]
  }
 ],
 "metadata": {
  "kernelspec": {
   "display_name": "Python 3",
   "language": "python",
   "name": "python3"
  },
  "language_info": {
   "codemirror_mode": {
    "name": "ipython",
    "version": 3
   },
   "file_extension": ".py",
   "mimetype": "text/x-python",
   "name": "python",
   "nbconvert_exporter": "python",
   "pygments_lexer": "ipython3",
   "version": "3.8.2"
  }
 },
 "nbformat": 4,
 "nbformat_minor": 4
}
